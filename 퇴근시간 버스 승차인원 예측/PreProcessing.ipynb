{
 "cells": [
  {
   "cell_type": "code",
   "execution_count": 1,
   "metadata": {},
   "outputs": [],
   "source": [
    "import pandas as pd\n",
    "import numpy as np\n",
    "\n",
    "import matplotlib.pyplot as plt\n",
    "import matplotlib\n",
    "import seaborn as sns\n",
    "\n",
    "%matplotlib inline\n",
    "\n",
    "# 시각화 한글 폰트 설정\n",
    "# 윈도우 사용자\n",
    "#plt.rc('font', family='Malgun Gothic')\n",
    "\n",
    "# Mac 사용자\n",
    "plt.rc('font', family='AppleGothic')\n",
    "\n",
    "# 마이너스 기호 출력\n",
    "plt.rc('axes', unicode_minus=False)\n",
    "\n",
    "import warnings\n",
    "warnings.filterwarnings('ignore')"
   ]
  },
  {
   "cell_type": "code",
   "execution_count": 2,
   "metadata": {},
   "outputs": [],
   "source": [
    "train = pd.read_csv('data/train.csv')\n",
    "test = pd.read_csv('data/test.csv')\n",
    "bts = pd.read_csv('data/bus_bts.csv')\n",
    "jeju_life = pd.read_csv('data/jeju_financial_life_data.csv')\n",
    "weather = pd.read_csv('data/weather.csv', encoding='cp949')\n",
    "rain = pd.read_csv('data/rain.csv', encoding='utf-8')"
   ]
  },
  {
   "cell_type": "markdown",
   "metadata": {},
   "source": [
    "# 데이터 전처리"
   ]
  },
  {
   "cell_type": "code",
   "execution_count": 3,
   "metadata": {},
   "outputs": [],
   "source": [
    "# 학습 데이터와 테스트 데이터를 구분하기 위한 변수 생성\n",
    "train['cue'] = 0\n",
    "test['cue'] = 1\n",
    "\n",
    "# 학습 데이터와 테스트 데이터 통합\n",
    "df = pd.concat([train, test], axis=0)"
   ]
  },
  {
   "cell_type": "markdown",
   "metadata": {},
   "source": [
    "## 내부 데이터를 통한 변수 생성"
   ]
  },
  {
   "cell_type": "code",
   "execution_count": 5,
   "metadata": {},
   "outputs": [],
   "source": [
    "# 요일을 나타내는 변수 생성\n",
    "df['date'] = pd.to_datetime(df['date'])\n",
    "\n",
    "# 요일 추출\n",
    "df['weekday'] = df['date'].dt.weekday"
   ]
  },
  {
   "cell_type": "code",
   "execution_count": null,
   "metadata": {},
   "outputs": [],
   "source": []
  }
 ],
 "metadata": {
  "kernelspec": {
   "display_name": "Python 3.7.4 64-bit ('base': conda)",
   "language": "python",
   "name": "python37464bitbaseconda6961c9f685e74e20892c2ecba51a248c"
  },
  "language_info": {
   "codemirror_mode": {
    "name": "ipython",
    "version": 3
   },
   "file_extension": ".py",
   "mimetype": "text/x-python",
   "name": "python",
   "nbconvert_exporter": "python",
   "pygments_lexer": "ipython3",
   "version": "3.7.4"
  }
 },
 "nbformat": 4,
 "nbformat_minor": 2
}
